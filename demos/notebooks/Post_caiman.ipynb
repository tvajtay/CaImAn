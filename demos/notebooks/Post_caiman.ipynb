{
 "cells": [
  {
   "cell_type": "code",
   "execution_count": null,
   "metadata": {},
   "outputs": [],
   "source": [
    "import glob\n",
    "import matplotlib.pyplot as plt\n",
    "import numpy as np\n",
    "import os\n",
    "import h5py\n",
    "from PIL import Image\n",
    "\n",
    "#Load in the respective H5 file\n",
    "filename = '2D1_012519.hdf5'\n",
    "f = h5py.File(filename, 'r')\n",
    "\n",
    "# Get the data\n",
    "F_dff = f['estimates/F_dff']\n",
    "\n",
    "#Get path to tifs, open tifs, count frames, store in list \n",
    "tiffs_path = \"/home/tomi/Desktop/NaomiVideos/2D1/Day2/\"\n",
    "frames = [] #Declare an empty list\n",
    "files  = sorted(os.listdir(tiffs_path)) #Make sure files are loaded in order of naming convention\n",
    "        \n",
    "for filename in files:\n",
    "    if filename.endswith(\".tif\"):\n",
    "        img = Image.open(tiffs_path + filename) #Define absolute path to file by concatenating the two strings\n",
    "        #print(filename)\n",
    "        frames.append(img.n_frames)\n",
    "\n",
    "#Preallocating a 3D matrix for data handling based on dimensions of data and frames; cells x frames x trials\n",
    "trials = np.zeros((len(F_dff),max(frames),len(frames)))\n",
    "\n"
   ]
  },
  {
   "cell_type": "code",
   "execution_count": null,
   "metadata": {},
   "outputs": [],
   "source": [
    "##Code to break apart movie by trials\n",
    "\n",
    "#Define global start point and counter\n",
    "start = 0\n",
    "counter = 0\n",
    "\n",
    "#Cycle through trials and transform 2D into 3D matrix for easy analysis\n",
    "for trial_len in frames:\n",
    "    #Select all cells, and subset of time for respective trial\n",
    "    #Then put that matrix into a slice of 3D matrix\n",
    "    trials[:,0:trial_len,counter] = F_dff[:,start:(start+trial_len)]\n",
    "    start = start + trial_len\n",
    "    counter = counter + 1\n",
    "    \n",
    "\n",
    "    \n",
    "#Average cells across trials (across third dimension)\n",
    "avg_trial = trials.mean(2)\n",
    "\n",
    "avg_trial[157,:] = 0"
   ]
  },
  {
   "cell_type": "code",
   "execution_count": null,
   "metadata": {},
   "outputs": [],
   "source": [
    "#All cells, all trials\n",
    "fig, ax =  plt.subplots(figsize=(30,10))\n",
    "im = ax.imshow(F_dff)\n",
    "\n",
    "fig.tight_layout()\n",
    "plt.show()"
   ]
  },
  {
   "cell_type": "code",
   "execution_count": null,
   "metadata": {},
   "outputs": [],
   "source": [
    "#All cells, avg trial\n",
    "fig, ax =  plt.subplots(figsize=(10,10))\n",
    "im = ax.imshow(avg_trial)\n",
    "\n",
    "cbar = ax.figure.colorbar(im, ax=ax)\n",
    "\n",
    "plt.ylabel('Cell number')\n",
    "plt.xlabel('Frames (15.49 Hz)')\n",
    "plt.title('Average cell activity across trials, 2D1 day 2')\n",
    "cbar.ax.set_ylabel('df/f')\n",
    "fig.tight_layout()\n",
    "plt.savefig('2D1_day2-avgcells.png')\n",
    "plt.show()\n",
    "    "
   ]
  },
  {
   "cell_type": "code",
   "execution_count": null,
   "metadata": {},
   "outputs": [],
   "source": [
    "#Single cell, all trials\n",
    "for cell_num in range(len(F_dff)):\n",
    "    s_cell = trials[cell_num,:,:].T\n",
    "\n",
    "    fig, ax =  plt.subplots(figsize=(10,5))\n",
    "    im = ax.imshow(s_cell)\n",
    "\n",
    "    cbar = ax.figure.colorbar(im, ax=ax)\n",
    "\n",
    "    plt.ylabel('Trials')\n",
    "    plt.xlabel('Frames (15.49 Hz)')\n",
    "    plt.title('Single cell activity across trials, Cell #: {0} Day 2'.format(cell_num))\n",
    "    cbar.ax.set_ylabel('df/f')\n",
    "    fig.tight_layout()\n",
    "    sname = '2D1_day2-{0}.png'.format(cell_num) \n",
    "    plt.savefig(sname)\n",
    "    plt.show()\n",
    "    \n"
   ]
  },
  {
   "cell_type": "code",
   "execution_count": null,
   "metadata": {},
   "outputs": [],
   "source": []
  }
 ],
 "metadata": {
  "kernelspec": {
   "display_name": "Python 3",
   "language": "python",
   "name": "python3"
  },
  "language_info": {
   "codemirror_mode": {
    "name": "ipython",
    "version": 3
   },
   "file_extension": ".py",
   "mimetype": "text/x-python",
   "name": "python",
   "nbconvert_exporter": "python",
   "pygments_lexer": "ipython3",
   "version": "3.6.7"
  }
 },
 "nbformat": 4,
 "nbformat_minor": 2
}
